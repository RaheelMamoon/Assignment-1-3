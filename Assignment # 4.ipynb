{
 "cells": [
  {
   "cell_type": "code",
   "execution_count": 50,
   "metadata": {},
   "outputs": [
    {
     "name": "stdout",
     "output_type": "stream",
     "text": [
      "{'Karachi': {'Country Name': 'Pakistan', 'Population': 'One  Million', 'Fact about the city ': 'City of light'}, 'Toronto': {'Country Name': 'Canada', 'Population': ' Three Million', 'Fact about the city': 'One of the most famous landmarks in the city is the CN Tower'}, 'Dhaka': {'Country Name': 'Bagladash', 'Population': 'One Million', 'Fact about the city': ' famous for its cottage industries (especially confectioneries'}}\n"
     ]
    }
   ],
   "source": [
    "Cities = {\n",
    "     'Karachi': {\n",
    "        \"Country Name\": \"Pakistan\",\n",
    "        \"Population\": \"One  Million\",\n",
    "        \"Fact about the city \": \"City of light\",\n",
    "    },\n",
    "    'Toronto': {\n",
    "              \"Country Name\": \"Canada\",\n",
    "              \"Population\": \" Three Million\",\n",
    "              \"Fact about the city\": \"One of the most famous landmarks in the city is the CN Tower\",\n",
    "    },\n",
    "    'Dhaka': {\n",
    "              \"Country Name\": \"Bagladash\",\n",
    "              \"Population\": \"One Million\",\n",
    "            \"Fact about the city\": \" famous for its cottage industries (especially confectioneries\",\n",
    "    }\n",
    "}\n",
    "print(Cities)"
   ]
  },
  {
   "cell_type": "code",
   "execution_count": 41,
   "metadata": {},
   "outputs": [
    {
     "name": "stdout",
     "output_type": "stream",
     "text": [
      "Raheel\n",
      "Mamoon\n",
      "33\n",
      "Karachi\n",
      "{'First Name': 'Raheel', 'Last Name': 'Mamoon', 'Age': '33', 'City': 'Karachi', 'Qualification': 14}\n",
      "{'First Name': 'Raheel', 'Last Name': 'Mamoon', 'Age': '33', 'City': 'Karachi'}\n"
     ]
    }
   ],
   "source": [
    "person = {\n",
    "    'First Name':'Raheel',\n",
    "    'Last Name':'Mamoon',\n",
    "    'Age':'33',\n",
    "    'City':'Karachi',\n",
    "    }\n",
    "\n",
    "print(person['First Name'])\n",
    "print(person['Last Name'])\n",
    "print(person['Age'])\n",
    "print(person['City'])\n",
    "person.update( {'Qualification' : 14} )\n",
    "print(person)\n",
    "del person[\"Qualification\"]\n",
    "print(person)\n"
   ]
  },
  {
   "cell_type": "code",
   "execution_count": 2,
   "metadata": {},
   "outputs": [
    {
     "name": "stdout",
     "output_type": "stream",
     "text": [
      "How old are you?\n",
      "Enter 'quit' when you are finished. Otherwise enter your age.quit\n"
     ]
    }
   ],
   "source": [
    "prompt = \"How old are you?\"\n",
    "prompt += \"\\nEnter 'quit' when you are finished. Otherwise enter your age.\"\n",
    "\n",
    "while True:\n",
    "    age = input(prompt)\n",
    "    if age == 'quit':\n",
    "        break\n",
    "    age = int(age)\n",
    "\n",
    "    if age < 3:\n",
    "        print(\"  You get in free!\")\n",
    "    elif age >= 3 and age <= 12 :\n",
    "        print(\"  Your ticket is $10.\")\n",
    "    elif age >=13 :\n",
    "        print(\"  Your ticket is $15.\")\n",
    "        "
   ]
  },
  {
   "cell_type": "code",
   "execution_count": 6,
   "metadata": {},
   "outputs": [
    {
     "name": "stdout",
     "output_type": "stream",
     "text": [
      "Alice in Wonderland. Is one of my favorite books.\n"
     ]
    }
   ],
   "source": [
    "def favorite_book(title):\n",
    "    \n",
    "    print(title + \" Is one of my favorite books.\")\n",
    "\n",
    "favorite_book('Alice in Wonderland.')\n",
    " "
   ]
  },
  {
   "cell_type": "code",
   "execution_count": 1,
   "metadata": {},
   "outputs": [
    {
     "name": "stdout",
     "output_type": "stream",
     "text": [
      "Welcome to Number Game\n",
      "Please input a number between 0 and 30:29\n",
      "This is higher than actual number. Please try again.\n",
      "Please input a number between 0 and 30:15\n",
      "This is lower than actual number. Please try again.\n",
      "Please input a number between 0 and 30:18\n",
      "This is lower than actual number. Please try again.\n",
      "Please input a number between 0 and 30:20\n",
      "This is higher than actual number. Please try again.\n",
      "Please input a number between 0 and 30:19\n",
      "This is the correct number\n",
      "Thank you for playing Number GAME. See you again\n"
     ]
    }
   ],
   "source": [
    "\n",
    "import random\n",
    "number=random.randrange(0,30)\n",
    "guessCheck=\"wrong\"\n",
    "print(\"Welcome to Number Game\")\n",
    "\n",
    "while guessCheck==\"wrong\":\n",
    "\tresponse=int(input(\"Please input a number between 0 and 30:\"))\n",
    "\ttry:\n",
    "\t\tval=int(response)\n",
    "\texcept ValueError:\n",
    "\t\tprint(\"This is not a valid integer. Please try again\")\n",
    "\t\tcontinue\n",
    "\tval=int (response)\n",
    "\tif val<number:\n",
    "\t\tprint(\"This is lower than actual number. Please try again.\")\n",
    "\telif val>number:\n",
    "\t\tprint(\"This is higher than actual number. Please try again.\")\n",
    "\telse:\n",
    "\t\tprint(\"This is the correct number\")\n",
    "\t\tguessCheck=\"correct\"\n",
    "\n",
    "print(\"Thank you for playing Number GAME. See you again\")\n"
   ]
  },
  {
   "cell_type": "code",
   "execution_count": null,
   "metadata": {},
   "outputs": [],
   "source": []
  }
 ],
 "metadata": {
  "kernelspec": {
   "display_name": "Python 3",
   "language": "python",
   "name": "python3"
  },
  "language_info": {
   "codemirror_mode": {
    "name": "ipython",
    "version": 3
   },
   "file_extension": ".py",
   "mimetype": "text/x-python",
   "name": "python",
   "nbconvert_exporter": "python",
   "pygments_lexer": "ipython3",
   "version": "3.7.4"
  }
 },
 "nbformat": 4,
 "nbformat_minor": 2
}
