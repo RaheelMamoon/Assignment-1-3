{
 "cells": [
  {
   "cell_type": "code",
   "execution_count": 1,
   "metadata": {},
   "outputs": [
    {
     "name": "stdout",
     "output_type": "stream",
     "text": [
      "Twinle, Twinkle, Little star,\n",
      "       How I wonder what you are!\n",
      "\t     Up above the world so high\n",
      "\t     Like a diamond in the sky.\n",
      "Twinkle, Twinkle, Little star,\n",
      "       How I wonder what you are \n"
     ]
    }
   ],
   "source": [
    "a = \"Twinle, Twinkle, Little star,\\n\"\n",
    "b = \"       How I wonder what you are!\\n\"\n",
    "c = \"\\t     Up above the world so high\\n\"\n",
    "d = \"\\t     Like a diamond in the sky.\\n\"\n",
    "e = \"Twinkle, Twinkle, Little star,\\n\"\n",
    "f = \"       How I wonder what you are \"\n",
    "print(a+b+c+d+e+f)"
   ]
  },
  {
   "cell_type": "code",
   "execution_count": 2,
   "metadata": {},
   "outputs": [
    {
     "name": "stdout",
     "output_type": "stream",
     "text": [
      "3.7.4\n"
     ]
    }
   ],
   "source": [
    "\n",
    "import platform\n",
    "\n",
    "print(platform.python_version())"
   ]
  },
  {
   "cell_type": "code",
   "execution_count": 3,
   "metadata": {},
   "outputs": [
    {
     "name": "stdout",
     "output_type": "stream",
     "text": [
      "2019-11-22 17:14:20\n"
     ]
    }
   ],
   "source": [
    "import datetime\n",
    "\n",
    "e = datetime.datetime.now()\n",
    "\n",
    "print (e.strftime(\"%Y-%m-%d %H:%M:%S\"))"
   ]
  },
  {
   "cell_type": "code",
   "execution_count": 4,
   "metadata": {},
   "outputs": [
    {
     "name": "stdout",
     "output_type": "stream",
     "text": [
      "Mamoon Raheel\n"
     ]
    }
   ],
   "source": [
    "a=\"Raheel\"\n",
    "b=\"Mamoon\"\n",
    "print(b,a)"
   ]
  },
  {
   "cell_type": "code",
   "execution_count": 5,
   "metadata": {},
   "outputs": [
    {
     "name": "stdout",
     "output_type": "stream",
     "text": [
      "input radius of a circle : 55\n",
      "r = 55.0 \n",
      "The area of the circle = 9503.317777109125 \n"
     ]
    }
   ],
   "source": [
    "\n",
    "import math\n",
    "radius = float(input('input radius of a circle : '))\n",
    "area = math.pi * radius ** 2\n",
    "print('r = {} \\nThe area of the circle = {} '.format(radius,area))"
   ]
  },
  {
   "cell_type": "code",
   "execution_count": 6,
   "metadata": {},
   "outputs": [
    {
     "name": "stdout",
     "output_type": "stream",
     "text": [
      "The sum of given number is:  9.0\n"
     ]
    }
   ],
   "source": [
    "\n",
    "a = 4\n",
    "b = 5\n",
    "\n",
    "sum = float(a) + float (b)\n",
    "print(\"The sum of given number is: \", sum)"
   ]
  },
  {
   "cell_type": "code",
   "execution_count": null,
   "metadata": {},
   "outputs": [],
   "source": []
  }
 ],
 "metadata": {
  "kernelspec": {
   "display_name": "Python 3",
   "language": "python",
   "name": "python3"
  },
  "language_info": {
   "codemirror_mode": {
    "name": "ipython",
    "version": 3
   },
   "file_extension": ".py",
   "mimetype": "text/x-python",
   "name": "python",
   "nbconvert_exporter": "python",
   "pygments_lexer": "ipython3",
   "version": "3.7.4"
  }
 },
 "nbformat": 4,
 "nbformat_minor": 2
}
