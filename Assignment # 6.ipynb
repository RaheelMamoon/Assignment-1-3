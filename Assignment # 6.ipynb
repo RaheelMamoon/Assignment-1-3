{
 "cells": [
  {
   "cell_type": "code",
   "execution_count": 1,
   "metadata": {},
   "outputs": [
    {
     "data": {
      "text/plain": [
       "' Python is a multi-paradigm programming language. Meaning, it supports different programming approach.\\n\\nOne of the popular approach to solve a programming problem is by creating objects. This is known as Object-Oriented Programming (OOP).'"
      ]
     },
     "execution_count": 1,
     "metadata": {},
     "output_type": "execute_result"
    }
   ],
   "source": [
    "# Define Object Oriented Programming Language?\n",
    "\n",
    "\"\"\" Python is a multi-paradigm programming language. Meaning, it supports different programming approach.\n",
    "\n",
    "One of the popular approach to solve a programming problem is by creating objects. This is known as Object-Oriented Programming (OOP).\"\"\"\n"
   ]
  },
  {
   "cell_type": "code",
   "execution_count": 2,
   "metadata": {},
   "outputs": [
    {
     "data": {
      "text/plain": [
       "'It provides a clear modular structure for programs which makes it good for defining abstract datatypes in which implementation details are hidden\\nObjects can also be reused within an across applications. The reuse of software also lowers the cost of development. More effort is put into the object-oriented analysis and design, which lowers the overall cost of development.\\nIt makes software easier to maintain. Since the design is modular, part of the system can be updated in case of issues without a need to make large-scale changes\\nReuse also enables faster development. Object-oriented programming languages come with rich libraries of objects, and code developed during projects is also reusable in future projects.\\nIt provides a good framework for code libraries where the supplied software components can be easily adapted and modified by the programmer. This is particularly useful for developing graphical user interfaces.\\nBetter Productivity as OOP techniques enforce rules on a programmer that, in the long run, help her get more work done; finished programs work better, have more features and are easier to read and maintain.\\nOOP programmers take new and existing software objects and \"stitch\" them together to make new programs.\\nBecause object libraries contain many useful functions, software developers don\\'t have to reinvent the wheel as often; more of their time goes into making the new program.'"
      ]
     },
     "execution_count": 2,
     "metadata": {},
     "output_type": "execute_result"
    }
   ],
   "source": [
    "# List down the Benefits of OOP?\n",
    "\n",
    "\"\"\"It provides a clear modular structure for programs which makes it good for defining abstract datatypes in which implementation details are hidden\n",
    "Objects can also be reused within an across applications. The reuse of software also lowers the cost of development. More effort is put into the object-oriented analysis and design, which lowers the overall cost of development.\n",
    "It makes software easier to maintain. Since the design is modular, part of the system can be updated in case of issues without a need to make large-scale changes\n",
    "Reuse also enables faster development. Object-oriented programming languages come with rich libraries of objects, and code developed during projects is also reusable in future projects.\n",
    "It provides a good framework for code libraries where the supplied software components can be easily adapted and modified by the programmer. This is particularly useful for developing graphical user interfaces.\n",
    "Better Productivity as OOP techniques enforce rules on a programmer that, in the long run, help her get more work done; finished programs work better, have more features and are easier to read and maintain.\n",
    "OOP programmers take new and existing software objects and \"stitch\" them together to make new programs.\n",
    "Because object libraries contain many useful functions, software developers don't have to reinvent the wheel as often; more of their time goes into making the new program.\"\"\""
   ]
  },
  {
   "cell_type": "code",
   "execution_count": 4,
   "metadata": {},
   "outputs": [
    {
     "data": {
      "text/plain": [
       "'\"\\nA function is a piece of code that is called by name. It can be passed data to operate on (i.e. the parameters) and can optionally return data (the return value). All data that is passed to a function is explicitly passed.\\n\\nA method is a piece of code that is called by a name that is associated with an object. In most respects it is identical to a function except for two key differences:\\n\\nA method is implicitly passed the object on which it was called.\\nA method is able to operate on data that is contained within the class (remembering that an object is an instance of a class - the class is the definition, the object is an instance of that data).'"
      ]
     },
     "execution_count": 4,
     "metadata": {},
     "output_type": "execute_result"
    }
   ],
   "source": [
    "#Differentiate between function and method?\n",
    "\n",
    "\"\"\"\"\n",
    "A function is a piece of code that is called by name. It can be passed data to operate on (i.e. the parameters) and can optionally return data (the return value). All data that is passed to a function is explicitly passed.\n",
    "\n",
    "A method is a piece of code that is called by a name that is associated with an object. In most respects it is identical to a function except for two key differences:\n",
    "\n",
    "A method is implicitly passed the object on which it was called.\n",
    "A method is able to operate on data that is contained within the class (remembering that an object is an instance of a class - the class is the definition, the object is an instance of that data).\"\"\""
   ]
  },
  {
   "cell_type": "code",
   "execution_count": 5,
   "metadata": {},
   "outputs": [
    {
     "data": {
      "text/plain": [
       "'\"An object has two characteristics:\\n•\\tattributes\\n•\\tbehavior\\nLet\\'s take an example:\\nParrot is an object,\\n•\\tname, age, color are attributes\\n•\\tsinging, dancing are behavior\\nThe concept of OOP in Python focuses on creating reusable code. This concept is also known as DRY (Don\\'t Repeat Yourself).\\nIn Python, the concept of OOP follows some basic principles:\\nInheritance\\tA process of using details from a new class without modifying existing class.\\nEncapsulation\\tHiding the private details of a class from other objects.\\nPolymorphism\\tA concept of using common operation in different ways for different data input.\\n\\nClass\\nA class is a blueprint for the object.\\nWe can think of class as an sketch of a parrot with labels. It contains all the details about the name, colors, size etc. Based on these descriptions, we can study about the parrot. Here, parrot is an object.\\nThe example for class of parrot can be :\\nclass Parrot:\\n    pass\\nHere, we use class keyword to define an empty class Parrot. From class, we construct instances. An instance is a specific object created from a particular class.\\n________________________________________\\nObject\\nAn object (instance) is an instantiation of a class. When class is defined, only the description for the object is defined. Therefore, no memory or storage is allocated.\\nThe example for object of parrot class can be:\\nobj = Parrot()\\nHere, obj is object of class Parrot.\\nSuppose we have details of parrot. Now, we are going to show how to build the class and objects of parrot.'"
      ]
     },
     "execution_count": 5,
     "metadata": {},
     "output_type": "execute_result"
    }
   ],
   "source": [
    "# Define the following term class, object, atribute, Behavior\n",
    "\n",
    "\"\"\"\"An object has two characteristics:\n",
    "attributes\n",
    "behavior\n",
    "Let's take an example:\n",
    "Parrot is an object,\n",
    "name, age, color are attributes\n",
    "singing, dancing are behavior\n",
    "The concept of OOP in Python focuses on creating reusable code. This concept is also known as DRY (Don't Repeat Yourself).\n",
    "In Python, the concept of OOP follows some basic principles:\n",
    "Inheritance\tA process of using details from a new class without modifying existing class.\n",
    "Encapsulation\tHiding the private details of a class from other objects.\n",
    "Polymorphism\tA concept of using common operation in different ways for different data input.\n",
    "\n",
    "Class\n",
    "A class is a blueprint for the object.\n",
    "We can think of class as an sketch of a parrot with labels. It contains all the details about the name, colors, size etc. Based on these descriptions, we can study about the parrot. Here, parrot is an object.\n",
    "The example for class of parrot can be :\n",
    "class Parrot:\n",
    "    pass\n",
    "Here, we use class keyword to define an empty class Parrot. From class, we construct instances. An instance is a specific object created from a particular class.\n",
    "________________________________________\n",
    "Object\n",
    "An object (instance) is an instantiation of a class. When class is defined, only the description for the object is defined. Therefore, no memory or storage is allocated.\n",
    "The example for object of parrot class can be:\n",
    "obj = Parrot()\n",
    "Here, obj is object of class Parrot.\n",
    "Suppose we have details of parrot. Now, we are going to show how to build the class and objects of parrot.\"\"\""
   ]
  },
  {
   "cell_type": "code",
   "execution_count": null,
   "metadata": {},
   "outputs": [],
   "source": []
  }
 ],
 "metadata": {
  "kernelspec": {
   "display_name": "Python 3",
   "language": "python",
   "name": "python3"
  },
  "language_info": {
   "codemirror_mode": {
    "name": "ipython",
    "version": 3
   },
   "file_extension": ".py",
   "mimetype": "text/x-python",
   "name": "python",
   "nbconvert_exporter": "python",
   "pygments_lexer": "ipython3",
   "version": "3.7.4"
  }
 },
 "nbformat": 4,
 "nbformat_minor": 2
}
